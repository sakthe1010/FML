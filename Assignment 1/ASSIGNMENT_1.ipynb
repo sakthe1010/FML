{
 "cells": [
  {
   "cell_type": "markdown",
   "metadata": {},
   "source": [
    "# ME21B174 FML ASSIGNMENT 1 REPORT "
   ]
  },
  {
   "cell_type": "markdown",
   "metadata": {},
   "source": [
    "# Question 1"
   ]
  },
  {
   "cell_type": "markdown",
   "metadata": {},
   "source": [
    "## PART 1 (i)"
   ]
  },
  {
   "cell_type": "markdown",
   "metadata": {},
   "source": [
    "Importing the necessary libraries"
   ]
  },
  {
   "cell_type": "code",
   "execution_count": 61,
   "metadata": {},
   "outputs": [],
   "source": [
    "import numpy as np\n",
    "import pandas as pd\n",
    "import matplotlib.pyplot as plt"
   ]
  },
  {
   "cell_type": "markdown",
   "metadata": {},
   "source": [
    "Before loading the dataset, I have directly added column headers x1, x2 and y on the csv files for better understanding and viewing (in both train and test dataset). "
   ]
  },
  {
   "cell_type": "code",
   "execution_count": 84,
   "metadata": {},
   "outputs": [],
   "source": [
    "# Loading the dataset\n",
    "train_data = pd.read_csv(\"FMLA1Q1Data_train.csv\")\n",
    "test_data = pd.read_csv(\"FMLA1Q1Data_test.csv\")\n",
    "train_data[\"x0\"] = 1\n",
    "test_data[\"x0\"] = 1"
   ]
  },
  {
   "cell_type": "markdown",
   "metadata": {},
   "source": [
    "Next, I have defined X and y matrices for both test and training data. "
   ]
  },
  {
   "cell_type": "code",
   "execution_count": 85,
   "metadata": {},
   "outputs": [
    {
     "name": "stdout",
     "output_type": "stream",
     "text": [
      "          x1       x2  x0\n",
      "0    0.53767  0.67370   1\n",
      "1    1.83390 -0.66911   1\n",
      "2   -2.25880 -0.40032   1\n",
      "3    0.86217 -0.67180   1\n",
      "4    0.31877  0.57563   1\n",
      "..       ...      ...  ..\n",
      "995  1.51060  2.02370   1\n",
      "996  0.16401  0.77779   1\n",
      "997 -0.28276 -0.54890   1\n",
      "998  1.15220 -0.12601   1\n",
      "999 -1.14650  0.29958   1\n",
      "\n",
      "[1000 rows x 3 columns]\n",
      "0       9.7251\n",
      "1      11.1090\n",
      "2      22.0270\n",
      "3       2.4278\n",
      "4       6.5156\n",
      "        ...   \n",
      "995    58.0210\n",
      "996     7.5994\n",
      "997     1.5992\n",
      "998     7.3712\n",
      "999     3.2247\n",
      "Name: y, Length: 1000, dtype: float64\n"
     ]
    }
   ],
   "source": [
    "y_train = train_data[\"y\"]\n",
    "X_train = train_data.drop(\"y\", axis=1)\n",
    "print(X_train)\n",
    "print(y_train)"
   ]
  },
  {
   "cell_type": "code",
   "execution_count": 86,
   "metadata": {},
   "outputs": [
    {
     "name": "stdout",
     "output_type": "stream",
     "text": [
      "         x1        x2  x0\n",
      "0   0.87060 -0.730160   1\n",
      "1   0.33076 -0.916330   1\n",
      "2  -1.34790  1.787600   1\n",
      "3   1.54790 -0.820400   1\n",
      "4  -0.61664 -0.196710   1\n",
      "..      ...       ...  ..\n",
      "95 -2.10320  0.659230   1\n",
      "96  0.37392 -1.280400   1\n",
      "97  0.24518  0.050124   1\n",
      "98  0.33858  0.548400   1\n",
      "99 -1.07810  1.778400   1\n",
      "\n",
      "[100 rows x 3 columns]\n",
      "0      2.4105\n",
      "1      1.6318\n",
      "2     12.3770\n",
      "3      6.8406\n",
      "4      1.6138\n",
      "       ...   \n",
      "95    10.4300\n",
      "96     3.9106\n",
      "97     1.9747\n",
      "98     6.2960\n",
      "99    13.0210\n",
      "Name: y, Length: 100, dtype: float64\n"
     ]
    }
   ],
   "source": [
    "y_test = test_data[\"y\"]\n",
    "X_test = test_data.drop(\"y\", axis=1)\n",
    "print(X_test)\n",
    "print(y_test)"
   ]
  },
  {
   "cell_type": "markdown",
   "metadata": {},
   "source": [
    "Here, I have used the analytical solution of the regression problem to obtain the least squares solution. \n",
    "\n",
    "We know that the analytical solution is inv(X * X.T) * X * Y.\n",
    "\n",
    "I have used the inverse function from numpy library to calculate the inverse of (X * X.T)."
   ]
  },
  {
   "cell_type": "code",
   "execution_count": 87,
   "metadata": {},
   "outputs": [
    {
     "name": "stdout",
     "output_type": "stream",
     "text": [
      "0    1.765706\n",
      "1    3.521590\n",
      "2    9.894008\n",
      "dtype: float64\n"
     ]
    }
   ],
   "source": [
    "w_ml = np.linalg.inv(X_train.T @ X_train) @ X_train.T @ y_train\n",
    "print(w_ml)"
   ]
  },
  {
   "cell_type": "markdown",
   "metadata": {},
   "source": [
    "## PART 1 (ii)"
   ]
  },
  {
   "cell_type": "code",
   "execution_count": 88,
   "metadata": {},
   "outputs": [],
   "source": [
    "def gradient_descent (X, y, w, learning_rate, epochs, w_ml, error_function):\n",
    "\n",
    "    for i in range(epochs):\n",
    "\n",
    "        gradient = (2 * (X.T @ ((X @ w) - y)))\n",
    "\n",
    "        w = w - learning_rate * gradient\n",
    "\n",
    "        error_function[i] = np.sum((w - w_ml) ** 2)\n",
    "\n",
    "    return w"
   ]
  },
  {
   "cell_type": "code",
   "execution_count": 89,
   "metadata": {},
   "outputs": [
    {
     "name": "stdout",
     "output_type": "stream",
     "text": [
      "w_obtained: x1    0.988634\n",
      "x2    2.363748\n",
      "x0    6.313289\n",
      "dtype: float64\n",
      "w_theroretical: [1.76570568 3.5215898  9.89400832]\n",
      "\n",
      "w_obtained: x1    1.765618\n",
      "x2    3.521598\n",
      "x0    9.893854\n",
      "dtype: float64\n",
      "w_theroretical: [1.76570568 3.5215898  9.89400832]\n",
      "\n",
      "w_obtained: x1    623.208271\n",
      "x2   -669.489872\n",
      "x0   -833.346386\n",
      "dtype: float64\n",
      "w_theroretical: [1.76570568 3.5215898  9.89400832]\n",
      "\n",
      "w_obtained: x1    5.021422e+65\n",
      "x2   -5.682289e+65\n",
      "x0   -7.051216e+65\n",
      "dtype: float64\n",
      "w_theroretical: [1.76570568 3.5215898  9.89400832]\n",
      "\n",
      "w_obtained: x1    4.477499e+116\n",
      "x2   -5.105347e+116\n",
      "x0   -6.330279e+116\n",
      "dtype: float64\n",
      "w_theroretical: [1.76570568 3.5215898  9.89400832]\n",
      "\n",
      "w_obtained: x1    5.543545e+166\n",
      "x2   -6.325833e+166\n",
      "x0   -7.843045e+166\n",
      "dtype: float64\n",
      "w_theroretical: [1.76570568 3.5215898  9.89400832]\n",
      "\n",
      "w_obtained: x1    5.662925e+216\n",
      "x2   -6.462568e+216\n",
      "x0   -8.012519e+216\n",
      "dtype: float64\n",
      "w_theroretical: [1.76570568 3.5215898  9.89400832]\n",
      "\n"
     ]
    }
   ],
   "source": [
    "X_train = X_train\n",
    "y_train = np.array(y_train)\n",
    "w_ml = np.array(w_ml)\n",
    "w_init = np.zeros(X_train.shape[1])\n",
    "epochs = 50\n",
    "error_function = np.zeros(epochs)\n",
    "\n",
    "\n",
    "learning_rates = [0.00001, 0.0001, 0.001, 0.01, 0.1, 1, 10]\n",
    "\n",
    "for l in learning_rates :\n",
    "    w = gradient_descent(X_train, y_train, w_init, l, epochs, w_ml, error_function)\n",
    "    print(f\"w_obtained: {w}\")\n",
    "    print(f\"w_theroretical: {w_ml}\")\n",
    "    print()"
   ]
  },
  {
   "cell_type": "code",
   "execution_count": 90,
   "metadata": {},
   "outputs": [
    {
     "data": {
      "text/plain": [
       "[<matplotlib.lines.Line2D at 0x233b71e1550>]"
      ]
     },
     "execution_count": 90,
     "metadata": {},
     "output_type": "execute_result"
    },
    {
     "data": {
      "image/png": "[encoded data removed]",
      "text/plain": [
       "<Figure size 640x480 with 1 Axes>"
      ]
     },
     "metadata": {},
     "output_type": "display_data"
    }
   ],
   "source": [
    "w = gradient_descent(X_train, y_train, w_init, 0.0001, epochs, w_ml, error_function)\n",
    "plt.plot(error_function)"
   ]
  },
  {
   "cell_type": "code",
   "execution_count": 91,
   "metadata": {},
   "outputs": [],
   "source": [
    "def stochastic_gradient_descent(data, w, learning_rate, epochs, w_ml, error_function):\n",
    "\n",
    "    for epoch in range(epochs):\n",
    "        \n",
    "        # Shuffle the training data\n",
    "        data.sample(frac=1).reset_index(inplace=True, drop=True)\n",
    "    \n",
    "        no_batches = 10\n",
    "        # Iterate over each batch\n",
    "        for i in range(0, no_batches):\n",
    "\n",
    "            st_idx = i*int(len(data)/no_batches)\n",
    "            end_idx = (i+1)*int(len(data)/no_batches)\n",
    "\n",
    "            # Separate the features (X_rand) and target (y_rand)\n",
    "            X_rand = data.iloc[st_idx:end_idx].drop(\"y\", axis=1)\n",
    "            y_rand = data.iloc[st_idx:end_idx][\"y\"]\n",
    "            \n",
    "            # Calculate the gradient\n",
    "            gradient = 2 * (X_rand.T @ ((X_rand @ w) - y_rand))\n",
    "            \n",
    "            # Update the weights\n",
    "            w = w - learning_rate * gradient\n",
    "            \n",
    "            # Calculate and store the error for the current epoch\n",
    "            \n",
    "        error_function[epoch] = np.sum((w - w_ml) ** 2)\n",
    "    \n",
    "    return w"
   ]
  },
  {
   "cell_type": "code",
   "execution_count": 92,
   "metadata": {},
   "outputs": [
    {
     "name": "stdout",
     "output_type": "stream",
     "text": [
      "x1    1.686126\n",
      "x2    3.436348\n",
      "x0    9.700123\n",
      "dtype: float64\n"
     ]
    },
    {
     "data": {
      "text/plain": [
       "[<matplotlib.lines.Line2D at 0x233b9cd2ff0>]"
      ]
     },
     "execution_count": 92,
     "metadata": {},
     "output_type": "execute_result"
    },
    {
     "data": {
      "image/png": "[encoded data removed]",
      "text/plain": [
       "<Figure size 640x480 with 1 Axes>"
      ]
     },
     "metadata": {},
     "output_type": "display_data"
    }
   ],
   "source": [
    "w_init = np.zeros(X_train.shape[1])\n",
    "epochs = 20\n",
    "error_function= np.zeros(epochs)\n",
    "\n",
    "w_stochastic = stochastic_gradient_descent(train_data, w_init, 0.0001, epochs, w_ml, error_function)\n",
    "print(w_stochastic)\n",
    "plt.plot(error_function)"
   ]
  },
  {
   "cell_type": "code",
   "execution_count": 93,
   "metadata": {},
   "outputs": [],
   "source": [
    "def ridge_regresssion(X, y, w, learning_rate, epochs, lamda):\n",
    "\n",
    "    for i in range(epochs):\n",
    "\n",
    "        gradient = (2 * (X.T @ ((X @ w) - y)) + 2 * lamda* w) / len(y)\n",
    "\n",
    "        w = w - learning_rate * gradient\n",
    "\n",
    "    return w"
   ]
  },
  {
   "cell_type": "code",
   "execution_count": 94,
   "metadata": {},
   "outputs": [],
   "source": [
    "def error(y_pred, y_true):\n",
    "    return (np.sum((y_pred - y_true) ** 2)/ len(y_pred))"
   ]
  },
  {
   "cell_type": "code",
   "execution_count": 95,
   "metadata": {},
   "outputs": [
    {
     "name": "stdout",
     "output_type": "stream",
     "text": [
      "165.65124787094973\n",
      "165.65125366644384\n",
      "165.65131162146125\n",
      "165.6518911792415\n",
      "165.6576875173934\n",
      "165.7157266519064\n",
      "166.30341720830674\n",
      "172.68354241502573\n"
     ]
    },
    {
     "data": {
      "image/png": "[encoded data removed]",
      "text/plain": [
       "<Figure size 640x480 with 1 Axes>"
      ]
     },
     "metadata": {},
     "output_type": "display_data"
    }
   ],
   "source": [
    "# Train test split\n",
    "\n",
    "val_split = train_data.iloc[:200, :]\n",
    "train_split =train_data.iloc[200:, :]\n",
    "\n",
    "X_train_split = train_split.drop(\"y\", axis = 1)\n",
    "y_train_split = train_split[\"y\"]\n",
    "\n",
    "X_val_split = val_split.drop(\"y\", axis = 1)\n",
    "y_val_split = val_split[\"y\"]\n",
    "\n",
    "w_init = np.zeros(X_train.shape[1])\n",
    "epochs = 1000\n",
    "lamda = [0.00001, 0.0001, 0.001, 0.01, 0.1, 1, 10, 100]\n",
    "\n",
    "for l in lamda :\n",
    "\n",
    "    w_ridge = ridge_regresssion(X_train_split, y_train_split, w_init, 0.1, epochs, l)\n",
    "\n",
    "    y_val_pred = X_val_split @ w_ridge\n",
    "    y_val_pred_ml = X_val_split @ w_ml\n",
    "\n",
    "    print(error(y_val_pred, y_val_split))\n",
    "\n",
    "    plt.plot(l, error(y_val_pred, y_val_split), 'bo') \n",
    "    plt.xscale('log')\n",
    "    "
   ]
  },
  {
   "cell_type": "code",
   "execution_count": 96,
   "metadata": {},
   "outputs": [
    {
     "name": "stdout",
     "output_type": "stream",
     "text": [
      "126.49473446859092\n",
      "66.00545933461238\n"
     ]
    }
   ],
   "source": [
    "w_ridge = ridge_regresssion(X_train, y_train, w_init, 0.0001, epochs, 0.001)\n",
    "\n",
    "y_pred_ridge = X_test @ w_ridge \n",
    "\n",
    "y_pred_ml = X_test @ w_ml\n",
    "\n",
    "ridge_error = error(y_pred_ridge, y_test)\n",
    "ml_error = error(y_pred_ml, y_test)\n",
    "\n",
    "print(ridge_error)\n",
    "print(ml_error) "
   ]
  },
  {
   "cell_type": "code",
   "execution_count": 97,
   "metadata": {},
   "outputs": [],
   "source": [
    "def guassian_kernel(x, xi, mu):\n",
    "    z = np.linalg.norm(xi- x)/mu\n",
    "    return (np.exp((-z**2)/2))/(np.sqrt(2*np.pi))\n",
    "\n",
    "def kernel_regression(X_train, X_test, mu):\n",
    "    weights = []\n",
    "    for i, xi in X_test.iterrows():\n",
    "        kernels = [guassian_kernel(x, xi, mu) for idx, x in X_train.iterrows()]\n",
    "        sim_score = [X_train.shape[0]*kernel/np.sum(kernels) for kernel in kernels]\n",
    "        weights.append(sim_score)\n",
    "    weights = np.array(weights)\n",
    "    return weights"
   ]
  },
  {
   "cell_type": "code",
   "execution_count": 98,
   "metadata": {},
   "outputs": [
    {
     "name": "stderr",
     "output_type": "stream",
     "text": [
      "C:\\Users\\sakth\\AppData\\Local\\Temp\\ipykernel_27012\\438299021.py:9: RuntimeWarning: invalid value encountered in scalar divide\n",
      "  sim_score = [X_train.shape[0]*kernel/np.sum(kernels) for kernel in kernels]\n"
     ]
    }
   ],
   "source": [
    "w_kernel = kernel_regression(X_train, X_test, 0.01)"
   ]
  },
  {
   "cell_type": "code",
   "execution_count": 99,
   "metadata": {},
   "outputs": [
    {
     "data": {
      "text/plain": [
       "(100, 1000)"
      ]
     },
     "execution_count": 99,
     "metadata": {},
     "output_type": "execute_result"
    }
   ],
   "source": [
    "w_kernel.shape"
   ]
  },
  {
   "cell_type": "code",
   "execution_count": 100,
   "metadata": {},
   "outputs": [
    {
     "data": {
      "text/plain": [
       "np.float64(0.9829561623365762)"
      ]
     },
     "execution_count": 100,
     "metadata": {},
     "output_type": "execute_result"
    }
   ],
   "source": [
    "y_pred_kernel = []\n",
    "for weight in w_kernel:\n",
    "    y_pred_kernel.append((weight.T @ y_train)/X_train.shape[0])\n",
    "\n",
    "kernel_error = (np.sum((y_pred_kernel - y_test)**2))/len(y_test)\n",
    "kernel_error"
   ]
  }
 ],
 "metadata": {
  "kernelspec": {
   "display_name": "Python 3",
   "language": "python",
   "name": "python3"
  },
  "language_info": {
   "codemirror_mode": {
    "name": "ipython",
    "version": 3
   },
   "file_extension": ".py",
   "mimetype": "text/x-python",
   "name": "python",
   "nbconvert_exporter": "python",
   "pygments_lexer": "ipython3",
   "version": "3.12.5"
  }
 },
 "nbformat": 4,
 "nbformat_minor": 2
}
